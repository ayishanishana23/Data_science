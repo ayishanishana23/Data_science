{
  "nbformat": 4,
  "nbformat_minor": 0,
  "metadata": {
    "colab": {
      "provenance": []
    },
    "kernelspec": {
      "name": "python3",
      "display_name": "Python 3"
    },
    "language_info": {
      "name": "python"
    }
  },
  "cells": [
    {
      "cell_type": "code",
      "execution_count": 4,
      "metadata": {
        "colab": {
          "base_uri": "https://localhost:8080/"
        },
        "id": "kuotbSYqCEUI",
        "outputId": "c484edf8-8b1b-415a-91b3-1d9c3e2fdda2"
      },
      "outputs": [
        {
          "output_type": "stream",
          "name": "stdout",
          "text": [
            "Original 2D array:\n",
            " [[ 1  2  3  4]\n",
            " [ 5  6  7  8]\n",
            " [ 9 10 11 12]\n",
            " [13 14 15 16]]\n",
            "Elements excluding the first row:\n",
            " [[ 5  6  7  8]\n",
            " [ 9 10 11 12]\n",
            " [13 14 15 16]]\n",
            "Elements excluding the last column:\n",
            " [[ 1  2  3]\n",
            " [ 5  6  7]\n",
            " [ 9 10 11]\n",
            " [13 14 15]]\n",
            "Elements of the 1st and 2nd column in the 2nd and 3rd row:\n",
            " [[ 5  6]\n",
            " [ 9 10]]\n",
            "Elements of the 2nd and 3rd column:\n",
            " [[ 2  3]\n",
            " [ 6  7]\n",
            " [10 11]\n",
            " [14 15]]\n",
            "2nd and 3rd element of the 1st row:\n",
            " [2 3]\n",
            "Elements from indices 4 to 10 in descending order:\n",
            " [12 11 10  9  8  7  6]\n"
          ]
        }
      ],
      "source": [
        "import numpy as np\n",
        "two_dimensional_array = np.array([[1, 2, 3, 4],\n",
        "[5, 6, 7, 8],\n",
        "[9, 10, 11, 12],\n",
        "[13, 14, 15, 16]])\n",
        "excluding_first_row = two_dimensional_array[1:]\n",
        "excluding_last_column = two_dimensional_array[:, :-1]\n",
        "column_1_2_in_row_2_3 = two_dimensional_array[1:3, 0:2]\n",
        "column_2_3 = two_dimensional_array[:, 1:3]\n",
        "elements_2_3_in_first_row = two_dimensional_array[0, 1:3]\n",
        "descending_order = two_dimensional_array.ravel()[::-1][4:11]\n",
        "print(\"Original 2D array:\\n\", two_dimensional_array)\n",
        "print(\"Elements excluding the first row:\\n\", excluding_first_row)\n",
        "print(\"Elements excluding the last column:\\n\", excluding_last_column)\n",
        "print(\"Elements of the 1st and 2nd column in the 2nd and 3rd row:\\n\",\n",
        "column_1_2_in_row_2_3)\n",
        "print(\"Elements of the 2nd and 3rd column:\\n\", column_2_3)\n",
        "print(\"2nd and 3rd element of the 1st row:\\n\", elements_2_3_in_first_row)\n",
        "print(\"Elements from indices 4 to 10 in descending order:\\n\", descending_order)"
      ]
    }
  ]
}